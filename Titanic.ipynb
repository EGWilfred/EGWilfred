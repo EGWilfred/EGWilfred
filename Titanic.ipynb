{
  "cells": [
    {
      "cell_type": "markdown",
      "metadata": {
        "id": "cMY21ZFH_vl1"
      },
      "source": [
        "<a id='pose_questions'></a>\n",
        "## Titanic Analysis\n"
      ]
    },
    {
      "cell_type": "code",
      "execution_count": null,
      "metadata": {
        "id": "fpe22M0cA5YH"
      },
      "outputs": [],
      "source": [
        "#Importing packages\n",
        "import pandas as pd\n",
        "import matplotlib.pyplot as plt\n",
        "import plotly.express as px\n",
        "import plotly.graph_objects as go\n",
        "import numpy as np\n",
        "import sklearn\n",
        "import seaborn as sns"
      ]
    },
    {
      "cell_type": "code",
      "execution_count": null,
      "metadata": {
        "id": "-BKssL54BAcg"
      },
      "outputs": [],
      "source": [
        "#Reading the dataset\n",
        "titanic = pd.read_csv('/content/titanic_data.csv')"
      ]
    },
    {
      "cell_type": "code",
      "execution_count": null,
      "metadata": {
        "id": "YsTqX0FwDv0m"
      },
      "outputs": [],
      "source": [
        "# Setting the index\n",
        "titanic.set_index('PassengerId', inplace=True)"
      ]
    },
    {
      "cell_type": "code",
      "execution_count": null,
      "metadata": {
        "colab": {
          "base_uri": "https://localhost:8080/",
          "height": 658
        },
        "id": "V9rAFeH-_hsq",
        "outputId": "5eda5817-c8f8-491e-b865-a05c915bb83b"
      },
      "outputs": [
        {
          "name": "stderr",
          "output_type": "stream",
          "text": [
            "/usr/local/lib/python3.7/dist-packages/ipykernel_launcher.py:2: FutureWarning: Dropping of nuisance columns in DataFrame reductions (with 'numeric_only=None') is deprecated; in a future version this will raise TypeError.  Select only valid columns before calling the reduction.\n",
            "  \n"
          ]
        },
        {
          "data": {
            "text/html": [
              "\n",
              "  <div id=\"df-043574d3-de3f-48a5-a267-b657b90694fd\">\n",
              "    <div class=\"colab-df-container\">\n",
              "      <div>\n",
              "<style scoped>\n",
              "    .dataframe tbody tr th:only-of-type {\n",
              "        vertical-align: middle;\n",
              "    }\n",
              "\n",
              "    .dataframe tbody tr th {\n",
              "        vertical-align: top;\n",
              "    }\n",
              "\n",
              "    .dataframe thead th {\n",
              "        text-align: right;\n",
              "    }\n",
              "</style>\n",
              "<table border=\"1\" class=\"dataframe\">\n",
              "  <thead>\n",
              "    <tr style=\"text-align: right;\">\n",
              "      <th></th>\n",
              "      <th>Survived</th>\n",
              "      <th>Pclass</th>\n",
              "      <th>Name</th>\n",
              "      <th>Sex</th>\n",
              "      <th>Age</th>\n",
              "      <th>SibSp</th>\n",
              "      <th>Parch</th>\n",
              "      <th>Ticket</th>\n",
              "      <th>Fare</th>\n",
              "      <th>Cabin</th>\n",
              "      <th>Embarked</th>\n",
              "    </tr>\n",
              "    <tr>\n",
              "      <th>PassengerId</th>\n",
              "      <th></th>\n",
              "      <th></th>\n",
              "      <th></th>\n",
              "      <th></th>\n",
              "      <th></th>\n",
              "      <th></th>\n",
              "      <th></th>\n",
              "      <th></th>\n",
              "      <th></th>\n",
              "      <th></th>\n",
              "      <th></th>\n",
              "    </tr>\n",
              "  </thead>\n",
              "  <tbody>\n",
              "    <tr>\n",
              "      <th>1</th>\n",
              "      <td>0</td>\n",
              "      <td>3</td>\n",
              "      <td>Braund, Mr. Owen Harris</td>\n",
              "      <td>male</td>\n",
              "      <td>22.000000</td>\n",
              "      <td>1</td>\n",
              "      <td>0</td>\n",
              "      <td>A/5 21171</td>\n",
              "      <td>7.2500</td>\n",
              "      <td>NaN</td>\n",
              "      <td>S</td>\n",
              "    </tr>\n",
              "    <tr>\n",
              "      <th>2</th>\n",
              "      <td>1</td>\n",
              "      <td>1</td>\n",
              "      <td>Cumings, Mrs. John Bradley (Florence Briggs Th...</td>\n",
              "      <td>female</td>\n",
              "      <td>38.000000</td>\n",
              "      <td>1</td>\n",
              "      <td>0</td>\n",
              "      <td>PC 17599</td>\n",
              "      <td>71.2833</td>\n",
              "      <td>C85</td>\n",
              "      <td>C</td>\n",
              "    </tr>\n",
              "    <tr>\n",
              "      <th>3</th>\n",
              "      <td>1</td>\n",
              "      <td>3</td>\n",
              "      <td>Heikkinen, Miss. Laina</td>\n",
              "      <td>female</td>\n",
              "      <td>26.000000</td>\n",
              "      <td>0</td>\n",
              "      <td>0</td>\n",
              "      <td>STON/O2. 3101282</td>\n",
              "      <td>7.9250</td>\n",
              "      <td>NaN</td>\n",
              "      <td>S</td>\n",
              "    </tr>\n",
              "    <tr>\n",
              "      <th>4</th>\n",
              "      <td>1</td>\n",
              "      <td>1</td>\n",
              "      <td>Futrelle, Mrs. Jacques Heath (Lily May Peel)</td>\n",
              "      <td>female</td>\n",
              "      <td>35.000000</td>\n",
              "      <td>1</td>\n",
              "      <td>0</td>\n",
              "      <td>113803</td>\n",
              "      <td>53.1000</td>\n",
              "      <td>C123</td>\n",
              "      <td>S</td>\n",
              "    </tr>\n",
              "    <tr>\n",
              "      <th>5</th>\n",
              "      <td>0</td>\n",
              "      <td>3</td>\n",
              "      <td>Allen, Mr. William Henry</td>\n",
              "      <td>male</td>\n",
              "      <td>35.000000</td>\n",
              "      <td>0</td>\n",
              "      <td>0</td>\n",
              "      <td>373450</td>\n",
              "      <td>8.0500</td>\n",
              "      <td>NaN</td>\n",
              "      <td>S</td>\n",
              "    </tr>\n",
              "    <tr>\n",
              "      <th>...</th>\n",
              "      <td>...</td>\n",
              "      <td>...</td>\n",
              "      <td>...</td>\n",
              "      <td>...</td>\n",
              "      <td>...</td>\n",
              "      <td>...</td>\n",
              "      <td>...</td>\n",
              "      <td>...</td>\n",
              "      <td>...</td>\n",
              "      <td>...</td>\n",
              "      <td>...</td>\n",
              "    </tr>\n",
              "    <tr>\n",
              "      <th>887</th>\n",
              "      <td>0</td>\n",
              "      <td>2</td>\n",
              "      <td>Montvila, Rev. Juozas</td>\n",
              "      <td>male</td>\n",
              "      <td>27.000000</td>\n",
              "      <td>0</td>\n",
              "      <td>0</td>\n",
              "      <td>211536</td>\n",
              "      <td>13.0000</td>\n",
              "      <td>NaN</td>\n",
              "      <td>S</td>\n",
              "    </tr>\n",
              "    <tr>\n",
              "      <th>888</th>\n",
              "      <td>1</td>\n",
              "      <td>1</td>\n",
              "      <td>Graham, Miss. Margaret Edith</td>\n",
              "      <td>female</td>\n",
              "      <td>19.000000</td>\n",
              "      <td>0</td>\n",
              "      <td>0</td>\n",
              "      <td>112053</td>\n",
              "      <td>30.0000</td>\n",
              "      <td>B42</td>\n",
              "      <td>S</td>\n",
              "    </tr>\n",
              "    <tr>\n",
              "      <th>889</th>\n",
              "      <td>0</td>\n",
              "      <td>3</td>\n",
              "      <td>Johnston, Miss. Catherine Helen \"Carrie\"</td>\n",
              "      <td>female</td>\n",
              "      <td>29.699118</td>\n",
              "      <td>1</td>\n",
              "      <td>2</td>\n",
              "      <td>W./C. 6607</td>\n",
              "      <td>23.4500</td>\n",
              "      <td>NaN</td>\n",
              "      <td>S</td>\n",
              "    </tr>\n",
              "    <tr>\n",
              "      <th>890</th>\n",
              "      <td>1</td>\n",
              "      <td>1</td>\n",
              "      <td>Behr, Mr. Karl Howell</td>\n",
              "      <td>male</td>\n",
              "      <td>26.000000</td>\n",
              "      <td>0</td>\n",
              "      <td>0</td>\n",
              "      <td>111369</td>\n",
              "      <td>30.0000</td>\n",
              "      <td>C148</td>\n",
              "      <td>C</td>\n",
              "    </tr>\n",
              "    <tr>\n",
              "      <th>891</th>\n",
              "      <td>0</td>\n",
              "      <td>3</td>\n",
              "      <td>Dooley, Mr. Patrick</td>\n",
              "      <td>male</td>\n",
              "      <td>32.000000</td>\n",
              "      <td>0</td>\n",
              "      <td>0</td>\n",
              "      <td>370376</td>\n",
              "      <td>7.7500</td>\n",
              "      <td>NaN</td>\n",
              "      <td>Q</td>\n",
              "    </tr>\n",
              "  </tbody>\n",
              "</table>\n",
              "<p>891 rows × 11 columns</p>\n",
              "</div>\n",
              "      <button class=\"colab-df-convert\" onclick=\"convertToInteractive('df-043574d3-de3f-48a5-a267-b657b90694fd')\"\n",
              "              title=\"Convert this dataframe to an interactive table.\"\n",
              "              style=\"display:none;\">\n",
              "        \n",
              "  <svg xmlns=\"http://www.w3.org/2000/svg\" height=\"24px\"viewBox=\"0 0 24 24\"\n",
              "       width=\"24px\">\n",
              "    <path d=\"M0 0h24v24H0V0z\" fill=\"none\"/>\n",
              "    <path d=\"M18.56 5.44l.94 2.06.94-2.06 2.06-.94-2.06-.94-.94-2.06-.94 2.06-2.06.94zm-11 1L8.5 8.5l.94-2.06 2.06-.94-2.06-.94L8.5 2.5l-.94 2.06-2.06.94zm10 10l.94 2.06.94-2.06 2.06-.94-2.06-.94-.94-2.06-.94 2.06-2.06.94z\"/><path d=\"M17.41 7.96l-1.37-1.37c-.4-.4-.92-.59-1.43-.59-.52 0-1.04.2-1.43.59L10.3 9.45l-7.72 7.72c-.78.78-.78 2.05 0 2.83L4 21.41c.39.39.9.59 1.41.59.51 0 1.02-.2 1.41-.59l7.78-7.78 2.81-2.81c.8-.78.8-2.07 0-2.86zM5.41 20L4 18.59l7.72-7.72 1.47 1.35L5.41 20z\"/>\n",
              "  </svg>\n",
              "      </button>\n",
              "      \n",
              "  <style>\n",
              "    .colab-df-container {\n",
              "      display:flex;\n",
              "      flex-wrap:wrap;\n",
              "      gap: 12px;\n",
              "    }\n",
              "\n",
              "    .colab-df-convert {\n",
              "      background-color: #E8F0FE;\n",
              "      border: none;\n",
              "      border-radius: 50%;\n",
              "      cursor: pointer;\n",
              "      display: none;\n",
              "      fill: #1967D2;\n",
              "      height: 32px;\n",
              "      padding: 0 0 0 0;\n",
              "      width: 32px;\n",
              "    }\n",
              "\n",
              "    .colab-df-convert:hover {\n",
              "      background-color: #E2EBFA;\n",
              "      box-shadow: 0px 1px 2px rgba(60, 64, 67, 0.3), 0px 1px 3px 1px rgba(60, 64, 67, 0.15);\n",
              "      fill: #174EA6;\n",
              "    }\n",
              "\n",
              "    [theme=dark] .colab-df-convert {\n",
              "      background-color: #3B4455;\n",
              "      fill: #D2E3FC;\n",
              "    }\n",
              "\n",
              "    [theme=dark] .colab-df-convert:hover {\n",
              "      background-color: #434B5C;\n",
              "      box-shadow: 0px 1px 3px 1px rgba(0, 0, 0, 0.15);\n",
              "      filter: drop-shadow(0px 1px 2px rgba(0, 0, 0, 0.3));\n",
              "      fill: #FFFFFF;\n",
              "    }\n",
              "  </style>\n",
              "\n",
              "      <script>\n",
              "        const buttonEl =\n",
              "          document.querySelector('#df-043574d3-de3f-48a5-a267-b657b90694fd button.colab-df-convert');\n",
              "        buttonEl.style.display =\n",
              "          google.colab.kernel.accessAllowed ? 'block' : 'none';\n",
              "\n",
              "        async function convertToInteractive(key) {\n",
              "          const element = document.querySelector('#df-043574d3-de3f-48a5-a267-b657b90694fd');\n",
              "          const dataTable =\n",
              "            await google.colab.kernel.invokeFunction('convertToInteractive',\n",
              "                                                     [key], {});\n",
              "          if (!dataTable) return;\n",
              "\n",
              "          const docLinkHtml = 'Like what you see? Visit the ' +\n",
              "            '<a target=\"_blank\" href=https://colab.research.google.com/notebooks/data_table.ipynb>data table notebook</a>'\n",
              "            + ' to learn more about interactive tables.';\n",
              "          element.innerHTML = '';\n",
              "          dataTable['output_type'] = 'display_data';\n",
              "          await google.colab.output.renderOutput(dataTable, element);\n",
              "          const docLink = document.createElement('div');\n",
              "          docLink.innerHTML = docLinkHtml;\n",
              "          element.appendChild(docLink);\n",
              "        }\n",
              "      </script>\n",
              "    </div>\n",
              "  </div>\n",
              "  "
            ],
            "text/plain": [
              "             Survived  Pclass  \\\n",
              "PassengerId                     \n",
              "1                   0       3   \n",
              "2                   1       1   \n",
              "3                   1       3   \n",
              "4                   1       1   \n",
              "5                   0       3   \n",
              "...               ...     ...   \n",
              "887                 0       2   \n",
              "888                 1       1   \n",
              "889                 0       3   \n",
              "890                 1       1   \n",
              "891                 0       3   \n",
              "\n",
              "                                                          Name     Sex  \\\n",
              "PassengerId                                                              \n",
              "1                                      Braund, Mr. Owen Harris    male   \n",
              "2            Cumings, Mrs. John Bradley (Florence Briggs Th...  female   \n",
              "3                                       Heikkinen, Miss. Laina  female   \n",
              "4                 Futrelle, Mrs. Jacques Heath (Lily May Peel)  female   \n",
              "5                                     Allen, Mr. William Henry    male   \n",
              "...                                                        ...     ...   \n",
              "887                                      Montvila, Rev. Juozas    male   \n",
              "888                               Graham, Miss. Margaret Edith  female   \n",
              "889                   Johnston, Miss. Catherine Helen \"Carrie\"  female   \n",
              "890                                      Behr, Mr. Karl Howell    male   \n",
              "891                                        Dooley, Mr. Patrick    male   \n",
              "\n",
              "                   Age  SibSp  Parch            Ticket     Fare Cabin Embarked  \n",
              "PassengerId                                                                     \n",
              "1            22.000000      1      0         A/5 21171   7.2500   NaN        S  \n",
              "2            38.000000      1      0          PC 17599  71.2833   C85        C  \n",
              "3            26.000000      0      0  STON/O2. 3101282   7.9250   NaN        S  \n",
              "4            35.000000      1      0            113803  53.1000  C123        S  \n",
              "5            35.000000      0      0            373450   8.0500   NaN        S  \n",
              "...                ...    ...    ...               ...      ...   ...      ...  \n",
              "887          27.000000      0      0            211536  13.0000   NaN        S  \n",
              "888          19.000000      0      0            112053  30.0000   B42        S  \n",
              "889          29.699118      1      2        W./C. 6607  23.4500   NaN        S  \n",
              "890          26.000000      0      0            111369  30.0000  C148        C  \n",
              "891          32.000000      0      0            370376   7.7500   NaN        Q  \n",
              "\n",
              "[891 rows x 11 columns]"
            ]
          },
          "execution_count": 103,
          "metadata": {},
          "output_type": "execute_result"
        }
      ],
      "source": [
        "#datacleaning\n",
        "Titanic = titanic.fillna(titanic.mean())\n",
        "Titanic"
      ]
    },
    {
      "cell_type": "markdown",
      "metadata": {
        "id": "Ykou-LA95muf"
      },
      "source": [
        "**1.  AVERAGE AGE OF THE PASSENGERS**"
      ]
    },
    {
      "cell_type": "code",
      "execution_count": null,
      "metadata": {
        "colab": {
          "base_uri": "https://localhost:8080/"
        },
        "id": "Fs2vT_BQES9s",
        "outputId": "f32ade91-d80e-47d8-dfbf-e5ef353d4836"
      },
      "outputs": [
        {
          "data": {
            "text/plain": [
              "29.69911764705882"
            ]
          },
          "execution_count": 104,
          "metadata": {},
          "output_type": "execute_result"
        }
      ],
      "source": [
        "#average age of passengers on ship\n",
        "avg_age = Titanic[\"Age\"].mean()\n",
        "avg_age"
      ]
    },
    {
      "cell_type": "markdown",
      "metadata": {
        "id": "wSLXiR_k57hV"
      },
      "source": [
        "The mean age of all passengers on the ship is 29.7years. So, the average age is 29years, 7months."
      ]
    },
    {
      "cell_type": "markdown",
      "metadata": {
        "id": "jzv8LeT36Jjx"
      },
      "source": [
        "**2.  NUMBER OF MALE AND FEMALE PASSENGERS ON THE SHIP**"
      ]
    },
    {
      "cell_type": "code",
      "execution_count": null,
      "metadata": {
        "colab": {
          "base_uri": "https://localhost:8080/",
          "height": 421
        },
        "id": "TcqwAegSnI6r",
        "outputId": "2a922439-e3dd-4457-c5d5-25172dfd81ea"
      },
      "outputs": [
        {
          "data": {
            "text/plain": [
              "Text(0.5, 1.0, 'Number of male and female passengers on the ship')"
            ]
          },
          "execution_count": 105,
          "metadata": {},
          "output_type": "execute_result"
        },
        {
          "data": {
            "image/png": "[encoded data removed]",
            "text/plain": [
              "<Figure size 576x432 with 1 Axes>"
            ]
          },
          "metadata": {
            "needs_background": "light"
          },
          "output_type": "display_data"
        }
      ],
      "source": [
        "# Plotting number of male and female\n",
        "plt.figure(figsize=(8,6))\n",
        "sns.countplot(x='Sex', data=Titanic)\n",
        "plt.title('Number of male and female passengers on the ship')"
      ]
    },
    {
      "cell_type": "markdown",
      "metadata": {
        "id": "-44Pu6nJ83ii"
      },
      "source": [
        "There are a total of 577 males and 314 female passengers on the ship.\n",
        "\n",
        "The bar chart here shows that there are a total of 577 males and 314 females, showing that there are more male passengers than females."
      ]
    },
    {
      "cell_type": "markdown",
      "metadata": {
        "id": "PtrR5wVl9Paq"
      },
      "source": [
        "**3.  PERCENTAGE OF MALE AND FEMALE ON THE SHIP**"
      ]
    },
    {
      "cell_type": "code",
      "execution_count": null,
      "metadata": {
        "colab": {
          "base_uri": "https://localhost:8080/",
          "height": 281
        },
        "id": "Pz3fUOLTyvBT",
        "outputId": "80562d96-6ab4-4d7f-a32d-7eb4829d5eb8"
      },
      "outputs": [
        {
          "data": {
            "text/plain": [
              "Text(0.5, 1.0, 'Percentage of male and female on the ship')"
            ]
          },
          "execution_count": 106,
          "metadata": {},
          "output_type": "execute_result"
        },
        {
          "data": {
            "image/png": "[encoded data removed]",
            "text/plain": [
              "<Figure size 432x288 with 1 Axes>"
            ]
          },
          "metadata": {},
          "output_type": "display_data"
        }
      ],
      "source": [
        "#Creating a variable Titanic_count for the number male and female on the ship\n",
        "Titanic_count = Titanic.groupby('Sex').size()\n",
        "#percentage of male and female\n",
        "Titanic_count.plot(kind='pie', autopct=\"%1.1f%%\")\n",
        "plt.title(\"Percentage of male and female on the ship\")"
      ]
    },
    {
      "cell_type": "markdown",
      "metadata": {
        "id": "1rhyivB_h52n"
      },
      "source": [
        "The pie chart shows that we have 68.8% male passengers and 35.2% female passengers, further confirming the bar chart above."
      ]
    },
    {
      "cell_type": "markdown",
      "metadata": {
        "id": "AN9C0PGM9r7p"
      },
      "source": [
        "**4.  NUMBER OF TEENAGERS ONBOARD**"
      ]
    },
    {
      "cell_type": "code",
      "execution_count": null,
      "metadata": {
        "id": "cslmslrA9fFb"
      },
      "outputs": [],
      "source": [
        "# First, we have to group the age into categories to get the teenagers.\n",
        "# This will be done by creating a new column(Age_group) on the dataframe\n",
        "# To assign an age_group to all the ages\n",
        "Titanic.loc[Titanic['Age']<13, 'Age_group'] = 'Child'\n",
        "Titanic.loc[Titanic['Age'].between(13,19), 'Age_group'] = 'Teenager'\n",
        "Titanic.loc[Titanic['Age']>19, 'Age_group'] = 'Adult'"
      ]
    },
    {
      "cell_type": "code",
      "execution_count": null,
      "metadata": {
        "colab": {
          "base_uri": "https://localhost:8080/",
          "height": 422
        },
        "id": "dyBKQABb-w66",
        "outputId": "9d6b452b-f022-456d-b1d2-2d4b1de99818"
      },
      "outputs": [
        {
          "data": {
            "text/plain": [
              "Text(0.5, 1.0, 'Number of teenagers on the ship')"
            ]
          },
          "execution_count": 108,
          "metadata": {},
          "output_type": "execute_result"
        },
        {
          "data": {
            "image/png": "[encoded data removed]",
            "text/plain": [
              "<Figure size 576x432 with 1 Axes>"
            ]
          },
          "metadata": {
            "needs_background": "light"
          },
          "output_type": "display_data"
        }
      ],
      "source": [
        "#plotting count of each demography\n",
        "plt.figure(figsize=(8,6))\n",
        "sns.countplot(x='Age_group', data=Titanic)\n",
        "plt.title('Number of teenagers on the ship')"
      ]
    },
    {
      "cell_type": "markdown",
      "metadata": {
        "id": "7MzYFKlF_0KW"
      },
      "source": [
        "There were a total of seven-hundred and twenty seven(727) adults, ninety-five(95) teenagers and sixety-nine (69) children on the ship."
      ]
    },
    {
      "cell_type": "markdown",
      "metadata": {
        "id": "U3xY4rUgBfXr"
      },
      "source": [
        "**5.  AVERAGE FARE OF THE TRIP**"
      ]
    },
    {
      "cell_type": "code",
      "execution_count": null,
      "metadata": {
        "colab": {
          "base_uri": "https://localhost:8080/"
        },
        "id": "88-gqAjRBXIl",
        "outputId": "22cd5bed-1d49-4fd2-d648-0480257adc7a"
      },
      "outputs": [
        {
          "data": {
            "text/plain": [
              "32.204207968574636"
            ]
          },
          "execution_count": 109,
          "metadata": {},
          "output_type": "execute_result"
        }
      ],
      "source": [
        "#Average total of the fare\n",
        "avg_fare_trip = Titanic[\"Fare\"].mean()\n",
        "avg_fare_trip"
      ]
    },
    {
      "cell_type": "markdown",
      "metadata": {
        "id": "VVujklUqByiV"
      },
      "source": [
        "The average fare of the trip is 32.20 pounds"
      ]
    },
    {
      "cell_type": "markdown",
      "metadata": {
        "id": "OfJWPh2pCDj2"
      },
      "source": [
        "**6. AVERAGE FARE FOR EACH CLASS OF TICKET**"
      ]
    },
    {
      "cell_type": "code",
      "execution_count": null,
      "metadata": {
        "colab": {
          "base_uri": "https://localhost:8080/"
        },
        "id": "KoMlu-voqNqQ",
        "outputId": "c55a1a54-3f11-4507-d7fb-97b0c9327490"
      },
      "outputs": [
        {
          "data": {
            "text/plain": [
              "Pclass\n",
              "1    216\n",
              "2    184\n",
              "3    491\n",
              "dtype: int64"
            ]
          },
          "execution_count": 110,
          "metadata": {},
          "output_type": "execute_result"
        }
      ],
      "source": [
        "# Count of passengers on each class\n",
        "Titanic.groupby(['Pclass']).size()"
      ]
    },
    {
      "cell_type": "markdown",
      "metadata": {
        "id": "GdSzYLDC3NlM"
      },
      "source": [
        "More people were in the third class than the other classes."
      ]
    },
    {
      "cell_type": "code",
      "execution_count": null,
      "metadata": {
        "colab": {
          "base_uri": "https://localhost:8080/"
        },
        "id": "ObTfNKBFCM0M",
        "outputId": "45e6f127-02d0-4917-a390-d369350926b1"
      },
      "outputs": [
        {
          "data": {
            "text/plain": [
              "84.1546875"
            ]
          },
          "execution_count": 111,
          "metadata": {},
          "output_type": "execute_result"
        }
      ],
      "source": [
        "#filtering the dataset to only when class is first class\n",
        "first_class = Titanic.query(('Pclass == 1'\n",
        "                                     ))\n",
        "\n",
        "#What was the average fare for a first class ticket?\n",
        "avg_fare_fc = first_class[\"Fare\"].mean()\n",
        "avg_fare_fc"
      ]
    },
    {
      "cell_type": "markdown",
      "metadata": {
        "id": "3qQW7UnkDGCa"
      },
      "source": [
        "For the first class tickets, the average fare is 84.15 pounds"
      ]
    },
    {
      "cell_type": "code",
      "execution_count": null,
      "metadata": {
        "colab": {
          "base_uri": "https://localhost:8080/"
        },
        "id": "gc80BApUKkbo",
        "outputId": "4ad869c0-c2e9-4008-e55e-9d09c7605d71"
      },
      "outputs": [
        {
          "data": {
            "text/plain": [
              "20.662183152173913"
            ]
          },
          "execution_count": 112,
          "metadata": {},
          "output_type": "execute_result"
        }
      ],
      "source": [
        "#filtering the dataset to only when class is second class\n",
        "second_class = Titanic.query(('Pclass == 2'\n",
        "                                     ))\n",
        "\n",
        "#What was the average fare for a first class ticket?\n",
        "avg_fare_sc = second_class[\"Fare\"].mean()\n",
        "avg_fare_sc"
      ]
    },
    {
      "cell_type": "code",
      "execution_count": null,
      "metadata": {
        "colab": {
          "base_uri": "https://localhost:8080/"
        },
        "id": "WjtZAwClK0oU",
        "outputId": "7f91dc7a-e87c-49dd-edcf-05a2b2efdff6"
      },
      "outputs": [
        {
          "data": {
            "text/plain": [
              "13.675550101832993"
            ]
          },
          "execution_count": 113,
          "metadata": {},
          "output_type": "execute_result"
        }
      ],
      "source": [
        "#filtering the dataset to only when class is third class\n",
        "third_class = Titanic.query(('Pclass == 3'\n",
        "                                     ))\n",
        "\n",
        "#What was the average fare for a first class ticket?\n",
        "avg_fare_tc = third_class[\"Fare\"].mean()\n",
        "avg_fare_tc"
      ]
    },
    {
      "cell_type": "markdown",
      "metadata": {
        "id": "xS-A-6YBPb89"
      },
      "source": [
        "The average fare for the first class is higher than second and third class even though there were less number of first class passengers"
      ]
    },
    {
      "cell_type": "markdown",
      "metadata": {
        "id": "vZq-KsxtDWNl"
      },
      "source": [
        "**7. PCLASS AND AGE GROUP THAT SURVIVED THE MOST**"
      ]
    },
    {
      "cell_type": "code",
      "execution_count": null,
      "metadata": {
        "colab": {
          "base_uri": "https://localhost:8080/",
          "height": 444
        },
        "id": "yacv5vvlag3e",
        "outputId": "1851d626-33eb-4838-f80d-900874a4ca07"
      },
      "outputs": [
        {
          "data": {
            "text/plain": [
              "Text(0.5, 1.0, 'Survival rate by Age_group')"
            ]
          },
          "execution_count": 114,
          "metadata": {},
          "output_type": "execute_result"
        },
        {
          "data": {
            "image/png": "[encoded data removed]",
            "text/plain": [
              "<Figure size 504x504 with 1 Axes>"
            ]
          },
          "metadata": {},
          "output_type": "display_data"
        }
      ],
      "source": [
        "#Create a pivot table using the Age_group as index\n",
        "table = pd.pivot_table(data=Titanic,index=['Age_group'])\n",
        "\n",
        "#show the visualization that survived the most in a piechart\n",
        "table.plot.pie(y='Survived', figsize=(7,7), autopct=\"%1.1f%%\")\n",
        "plt.title('Survival rate by Age_group')"
      ]
    },
    {
      "cell_type": "markdown",
      "metadata": {
        "id": "7tB_DF3YMlBR"
      },
      "source": [
        "From the above visualization, children survived the most with approximately 58% of survival rate."
      ]
    },
    {
      "cell_type": "code",
      "execution_count": null,
      "metadata": {
        "colab": {
          "base_uri": "https://localhost:8080/",
          "height": 444
        },
        "id": "YuHQKbVxQM3Q",
        "outputId": "6a223e10-11d7-44a8-eb0b-ed0906df025d"
      },
      "outputs": [
        {
          "data": {
            "text/plain": [
              "Text(0.5, 1.0, 'Survival rate by class')"
            ]
          },
          "execution_count": 115,
          "metadata": {},
          "output_type": "execute_result"
        },
        {
          "data": {
            "image/png": "[encoded data removed]",
            "text/plain": [
              "<Figure size 504x504 with 1 Axes>"
            ]
          },
          "metadata": {},
          "output_type": "display_data"
        }
      ],
      "source": [
        "# Making a pivot table\n",
        "table1 = pd.pivot_table(data=Titanic,index=['Pclass'])\n",
        "\n",
        "#show the visualization that survived the most in a piechart\n",
        "table1.plot.pie(y='Survived', figsize=(7,7), autopct=\"%1.1f%%\")\n",
        "plt.title('Survival rate by class')"
      ]
    },
    {
      "cell_type": "markdown",
      "metadata": {
        "id": "uz6Gq-_GQSq8"
      },
      "source": [
        "Passengers in the first class survived more than passengers in second and third class."
      ]
    },
    {
      "cell_type": "code",
      "execution_count": null,
      "metadata": {
        "colab": {
          "base_uri": "https://localhost:8080/"
        },
        "id": "tPIq1GqPy_80",
        "outputId": "ca08d607-2441-40ef-f833-4b5ac439e627"
      },
      "outputs": [
        {
          "data": {
            "text/plain": [
              "Pclass  Sex   \n",
              "1       female     94\n",
              "        male      122\n",
              "2       female     76\n",
              "        male      108\n",
              "3       female    144\n",
              "        male      347\n",
              "dtype: int64"
            ]
          },
          "execution_count": 116,
          "metadata": {},
          "output_type": "execute_result"
        }
      ],
      "source": [
        "#Number of male and female in each class\n",
        "group= Titanic.groupby(['Pclass', 'Sex']).size()\n",
        "group"
      ]
    },
    {
      "cell_type": "markdown",
      "metadata": {
        "id": "m6nov-YfN93Q"
      },
      "source": [
        "**8.  PERCENTAGE OF THE POPULATION WITH SIBLINGS OR SPOUSES**"
      ]
    },
    {
      "cell_type": "code",
      "execution_count": null,
      "metadata": {
        "colab": {
          "base_uri": "https://localhost:8080/"
        },
        "id": "dmlFpl2lFSYT",
        "outputId": "578cae76-aad7-43b6-ab81-4b137048be75"
      },
      "outputs": [
        {
          "data": {
            "text/plain": [
              "31.762065095398427"
            ]
          },
          "execution_count": 117,
          "metadata": {},
          "output_type": "execute_result"
        }
      ],
      "source": [
        "#Find the total number of passengers where sibsp is not 0\n",
        "sibsp = Titanic.query(('`SibSp` > 0'\n",
        "                        ))\n",
        "#Using that value, divide it with the total population and multiply by 100 to get the percentage\n",
        "sibsp\n",
        "283/891*100"
      ]
    },
    {
      "cell_type": "markdown",
      "metadata": {
        "id": "-jdMRKlTPjWq"
      },
      "source": [
        "31.8% of the passengers had their siblings or spouses onboard"
      ]
    },
    {
      "cell_type": "markdown",
      "metadata": {
        "id": "U9Nw5r7jPue5"
      },
      "source": [
        "**CORRELATION BETWEEN THE PASSENGER'S AGE AND THE FARE THEY PAY**"
      ]
    },
    {
      "cell_type": "code",
      "execution_count": null,
      "metadata": {
        "colab": {
          "base_uri": "https://localhost:8080/"
        },
        "id": "oOSuAFGsl-hX",
        "outputId": "fa0a5760-0386-45ac-8514-c69b6fdfa82f"
      },
      "outputs": [
        {
          "data": {
            "text/plain": [
              "0.0915660932850576"
            ]
          },
          "execution_count": 118,
          "metadata": {},
          "output_type": "execute_result"
        }
      ],
      "source": [
        "#Calculate for the correlation value\n",
        "correlation = Titanic['Fare'].corr(Titanic['Age'])\n",
        "correlation"
      ]
    },
    {
      "cell_type": "code",
      "execution_count": null,
      "metadata": {
        "colab": {
          "base_uri": "https://localhost:8080/",
          "height": 433
        },
        "id": "eRyeYxGf6NNs",
        "outputId": "c5eb9991-1cdc-4bef-be19-65ce75292531"
      },
      "outputs": [
        {
          "name": "stderr",
          "output_type": "stream",
          "text": [
            "/usr/local/lib/python3.7/dist-packages/matplotlib/cbook/__init__.py:1376: VisibleDeprecationWarning: Creating an ndarray from ragged nested sequences (which is a list-or-tuple of lists-or-tuples-or ndarrays with different lengths or shapes) is deprecated. If you meant to do this, you must specify 'dtype=object' when creating the ndarray.\n",
            "  X = np.atleast_1d(X.T if isinstance(X, np.ndarray) else np.asarray(X))\n"
          ]
        },
        {
          "data": {
            "text/plain": [
              "<matplotlib.axes._subplots.AxesSubplot at 0x7ffa20b64310>"
            ]
          },
          "execution_count": 119,
          "metadata": {},
          "output_type": "execute_result"
        },
        {
          "data": {
            "image/png": "[encoded data removed]",
            "text/plain": [
              "<Figure size 576x360 with 1 Axes>"
            ]
          },
          "metadata": {
            "needs_background": "light"
          },
          "output_type": "display_data"
        }
      ],
      "source": [
        "#Use of boxplot to determine the correlation between Class and fare\n",
        "Titanic.boxplot(column='Fare', by='Pclass', figsize=(8,5))"
      ]
    },
    {
      "cell_type": "markdown",
      "metadata": {
        "id": "ioK3mh1XSd_k"
      },
      "source": [
        "There is a correlation between Class and fare"
      ]
    },
    {
      "cell_type": "code",
      "execution_count": null,
      "metadata": {
        "colab": {
          "base_uri": "https://localhost:8080/",
          "height": 434
        },
        "id": "rRElh3PfvFNt",
        "outputId": "24e0ffae-cd0c-4084-a95c-156bc7868bfe"
      },
      "outputs": [
        {
          "name": "stderr",
          "output_type": "stream",
          "text": [
            "/usr/local/lib/python3.7/dist-packages/matplotlib/cbook/__init__.py:1376: VisibleDeprecationWarning: Creating an ndarray from ragged nested sequences (which is a list-or-tuple of lists-or-tuples-or ndarrays with different lengths or shapes) is deprecated. If you meant to do this, you must specify 'dtype=object' when creating the ndarray.\n",
            "  X = np.atleast_1d(X.T if isinstance(X, np.ndarray) else np.asarray(X))\n"
          ]
        },
        {
          "data": {
            "text/plain": [
              "<matplotlib.axes._subplots.AxesSubplot at 0x7ffa208eb750>"
            ]
          },
          "execution_count": 123,
          "metadata": {},
          "output_type": "execute_result"
        },
        {
          "data": {
            "image/png": "[encoded data removed]",
            "text/plain": [
              "<Figure size 576x360 with 1 Axes>"
            ]
          },
          "metadata": {
            "needs_background": "light"
          },
          "output_type": "display_data"
        }
      ],
      "source": [
        "#Using a boxplot to visualize the correlation\n",
        "Titanic.boxplot(column='Fare', by='Age_group', figsize=(8,5))"
      ]
    },
    {
      "cell_type": "code",
      "execution_count": null,
      "metadata": {
        "colab": {
          "base_uri": "https://localhost:8080/",
          "height": 312
        },
        "id": "LFZ08IyDpEF1",
        "outputId": "ddccb796-76f5-46dd-fc56-27a6ce4ad064"
      },
      "outputs": [
        {
          "data": {
            "text/plain": [
              "Text(0, 0.5, 'Fare')"
            ]
          },
          "execution_count": 121,
          "metadata": {},
          "output_type": "execute_result"
        },
        {
          "data": {
            "image/png": "[encoded data removed]",
            "text/plain": [
              "<Figure size 432x288 with 1 Axes>"
            ]
          },
          "metadata": {
            "needs_background": "light"
          },
          "output_type": "display_data"
        }
      ],
      "source": [
        "# Visualizing the correlation with a scatter plot\n",
        "plt.scatter(Titanic['Age'], Titanic['Fare'])\n",
        "  \n",
        "# This will fit the best line into the graph\n",
        "plt.plot(np.unique(Titanic['Age']), np.poly1d(np.polyfit(Titanic['Age'], Titanic['Fare'], 1))\n",
        "         (np.unique(Titanic['Age'])), color='red')\n",
        "\n",
        "# adds the title\n",
        "plt.title('Correlation')\n",
        "# Labelling axes\n",
        "plt.xlabel('Age')\n",
        "plt.ylabel('Fare')\n"
      ]
    },
    {
      "cell_type": "markdown",
      "metadata": {
        "id": "WzDKj83EizCb"
      },
      "source": [
        "There is no correlation between fare and age"
      ]
    },
    {
      "cell_type": "markdown",
      "metadata": {
        "id": "yU1cCrMlTZBR"
      },
      "source": [
        "### Data Description\n",
        "(from https://www.kaggle.com/c/titanic)\n",
        "\n",
        "- **survival:** Survival (0 = No; 1 = Yes)\n",
        "- **pclass:** Passenger Class (1 = 1st; 2 = 2nd; 3 = 3rd)\n",
        "- **name:** Name\n",
        "- **sex:** Sex\n",
        "- **age:** Age\n",
        "- **sibsp:** Number of Siblings/Spouses Aboard\n",
        "- **parch:** Number of Parents/Children Aboard\n",
        "- **ticket:** Ticket Number\n",
        "- **fare:** Passenger Fare\n",
        "- **cabin:** Cabin\n",
        "- **embarked:** Port of Embarkation (C = Cherbourg; Q = Queenstown; S = Southampton)\n",
        "\n",
        "**Special Notes:**\n",
        "- Pclass is a proxy for socio-economic status (SES) 1st ~ Upper; 2nd ~ Middle; 3rd ~ Lower\n",
        "- Age is in Years; Fractional if Age less than One (1) If the Age is Estimated, it is in the form xx.5\n",
        "\n",
        "With respect to the family relation variables (i.e. sibsp and parch) some relations were ignored.  The following are the definitions used for sibsp and parch.\n",
        "\n",
        "- **Sibling:**  Brother, Sister, Stepbrother, or Stepsister of Passenger Aboard Titanic\n",
        "- **Spouse:**   Husband or Wife of Passenger Aboard Titanic (Mistresses and Fiances Ignored)\n",
        "- **Parent:**   Mother or Father of Passenger Aboard Titanic\n",
        "- **Child:**    Son, Daughter, Stepson, or Stepdaughter of Passenger Aboard Titanic\n",
        "\n",
        "Other family relatives excluded from this study include cousins, nephews/nieces, aunts/uncles, and in-laws.  Some children travelled only with a nanny, therefore parch=0 for them.  As well, some travelled with very close friends or neighbors in a village, however, the definitions do not support such relations."
      ]
    }
  ],
  "metadata": {
    "colab": {
      "collapsed_sections": [],
      "name": ".ipynb",
      "provenance": []
    },
    "kernelspec": {
      "display_name": "Python 3",
      "language": "python",
      "name": "python3"
    },
    "language_info": {
      "codemirror_mode": {
        "name": "ipython",
        "version": 3
      },
      "file_extension": ".py",
      "mimetype": "text/x-python",
      "name": "python",
      "nbconvert_exporter": "python",
      "pygments_lexer": "ipython3",
      "version": "3.8.5"
    }
  },
  "nbformat": 4,
  "nbformat_minor": 0
}
